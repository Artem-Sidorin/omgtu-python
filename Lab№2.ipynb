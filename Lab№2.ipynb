{
 "cells": [
  {
   "cell_type": "markdown",
   "id": "e3c20c34",
   "metadata": {},
   "source": [
    "## Лабораторная работа №2"
   ]
  },
  {
   "cell_type": "markdown",
   "id": "b9749bdd",
   "metadata": {},
   "source": [
    "Задание 1 . Провести классификацию найденного датасета, методом машины опорных векторов. В формате *Markdown* писать пояснения. Объяснить почему были выбраны именно такие гиперпараметры, была ли перекрестная проверка, и т.д."
   ]
  },
  {
   "cell_type": "code",
   "execution_count": 1,
   "id": "54f00f2c",
   "metadata": {},
   "outputs": [],
   "source": [
    "import pandas as pd\n",
    "import matplotlib.pyplot as plt\n",
    "import numpy as np\n",
    "from sklearn.model_selection import train_test_split\n",
    "from sklearn.preprocessing import StandardScaler\n",
    "from sklearn.metrics import accuracy_score, classification_report\n",
    "from sklearn.model_selection import cross_val_score\n",
    "from sklearn.model_selection import StratifiedKFold\n",
    "from sklearn.preprocessing import LabelEncoder\n",
    "from sklearn.model_selection import GridSearchCV\n",
    "from sklearn.svm import SVC\n",
    "from imblearn.under_sampling import RandomUnderSampler"
   ]
  },
  {
   "cell_type": "code",
   "execution_count": 19,
   "id": "cb286e46",
   "metadata": {},
   "outputs": [
    {
     "name": "stdout",
     "output_type": "stream",
     "text": [
      "             ID  Loan Amount  Funded Amount  Funded Amount Investor  Term  \\\n",
      "0      65087372        10000          32236             12329.36286    59   \n",
      "1       1450153         3609          11940             12191.99692    59   \n",
      "2       1969101        28276           9311             21603.22455    59   \n",
      "3       6651430        11170           6954             17877.15585    59   \n",
      "4      14354669        16890          13226             13539.92667    59   \n",
      "...         ...          ...            ...                     ...   ...   \n",
      "67458  16164945        13601           6848             13175.28583    59   \n",
      "67459  35182714         8323          11046             15637.46301    59   \n",
      "67460  16435904        15897          32921             12329.45775    59   \n",
      "67461   5300325        16567           4975             21353.68465    59   \n",
      "67462  65443173        15353          29875             14207.44860    59   \n",
      "\n",
      "      Batch Enrolled  Interest Rate Grade Sub Grade Employment Duration  ...  \\\n",
      "0         BAT2522922      11.135007     B        C4            MORTGAGE  ...   \n",
      "1         BAT1586599      12.237563     C        D3                RENT  ...   \n",
      "2         BAT2136391      12.545884     F        D4            MORTGAGE  ...   \n",
      "3         BAT2428731      16.731201     C        C3            MORTGAGE  ...   \n",
      "4         BAT5341619      15.008300     C        D4            MORTGAGE  ...   \n",
      "...              ...            ...   ...       ...                 ...  ...   \n",
      "67458     BAT3193689       9.408858     C        A4            MORTGAGE  ...   \n",
      "67459     BAT1780517       9.972104     C        B3                RENT  ...   \n",
      "67460     BAT1761981      19.650943     A        F3            MORTGAGE  ...   \n",
      "67461     BAT2333412      13.169095     D        E3                 OWN  ...   \n",
      "67462     BAT1930365      16.034631     B        D1            MORTGAGE  ...   \n",
      "\n",
      "        Recoveries Collection Recovery Fee Collection 12 months Medical  \\\n",
      "0         2.498291                0.793724                            0   \n",
      "1         2.377215                0.974821                            0   \n",
      "2         4.316277                1.020075                            0   \n",
      "3         0.107020                0.749971                            0   \n",
      "4      1294.818751                0.368953                            0   \n",
      "...            ...                     ...                          ...   \n",
      "67458   564.614852                0.865230                            0   \n",
      "67459     2.015494                1.403368                            0   \n",
      "67460     5.673092                1.607093                            0   \n",
      "67461     1.157454                0.207608                            0   \n",
      "67462     1.856480                0.366386                            0   \n",
      "\n",
      "      Application Type  Last week Pay  Accounts Delinquent  \\\n",
      "0           INDIVIDUAL             49                    0   \n",
      "1           INDIVIDUAL            109                    0   \n",
      "2           INDIVIDUAL             66                    0   \n",
      "3           INDIVIDUAL             39                    0   \n",
      "4           INDIVIDUAL             18                    0   \n",
      "...                ...            ...                  ...   \n",
      "67458       INDIVIDUAL             69                    0   \n",
      "67459       INDIVIDUAL             14                    0   \n",
      "67460       INDIVIDUAL            137                    0   \n",
      "67461       INDIVIDUAL             73                    0   \n",
      "67462       INDIVIDUAL             54                    0   \n",
      "\n",
      "       Total Collection Amount  Total Current Balance  \\\n",
      "0                           31                 311301   \n",
      "1                           53                 182610   \n",
      "2                           34                  89801   \n",
      "3                           40                   9189   \n",
      "4                          430                 126029   \n",
      "...                        ...                    ...   \n",
      "67458                       48                 181775   \n",
      "67459                       37                  22692   \n",
      "67460                       17                 176857   \n",
      "67461                       61                 361339   \n",
      "67462                       47                 196960   \n",
      "\n",
      "       Total Revolving Credit Limit  Loan Status  \n",
      "0                              6619            0  \n",
      "1                             20885            0  \n",
      "2                             26155            0  \n",
      "3                             60214            0  \n",
      "4                             22579            0  \n",
      "...                             ...          ...  \n",
      "67458                         34301            1  \n",
      "67459                          8714            0  \n",
      "67460                         42330            0  \n",
      "67461                         39075            0  \n",
      "67462                         66060            0  \n",
      "\n",
      "[67463 rows x 35 columns]\n"
     ]
    }
   ],
   "source": [
    "data = pd.read_csv('classified_data.csv')\n",
    "print(data)\n"
   ]
  },
  {
   "cell_type": "code",
   "execution_count": 25,
   "id": "0d32cdc4",
   "metadata": {},
   "outputs": [
    {
     "name": "stdout",
     "output_type": "stream",
     "text": [
      "<class 'pandas.core.frame.DataFrame'>\n",
      "RangeIndex: 67463 entries, 0 to 67462\n",
      "Data columns (total 30 columns):\n",
      " #   Column                        Non-Null Count  Dtype  \n",
      "---  ------                        --------------  -----  \n",
      " 0   Loan Amount                   67463 non-null  int64  \n",
      " 1   Funded Amount                 67463 non-null  int64  \n",
      " 2   Funded Amount Investor        67463 non-null  float64\n",
      " 3   Term                          67463 non-null  int64  \n",
      " 4   Interest Rate                 67463 non-null  float64\n",
      " 5   Home Ownership                67463 non-null  float64\n",
      " 6   Debit to Income               67463 non-null  float64\n",
      " 7   Delinquency - two years       67463 non-null  int64  \n",
      " 8   Inquires - six months         67463 non-null  int64  \n",
      " 9   Open Account                  67463 non-null  int64  \n",
      " 10  Public Record                 67463 non-null  int64  \n",
      " 11  Revolving Balance             67463 non-null  int64  \n",
      " 12  Revolving Utilities           67463 non-null  float64\n",
      " 13  Total Accounts                67463 non-null  int64  \n",
      " 14  Total Received Interest       67463 non-null  float64\n",
      " 15  Total Received Late Fee       67463 non-null  float64\n",
      " 16  Recoveries                    67463 non-null  float64\n",
      " 17  Collection Recovery Fee       67463 non-null  float64\n",
      " 18  Collection 12 months Medical  67463 non-null  int64  \n",
      " 19  Last week Pay                 67463 non-null  int64  \n",
      " 20  Total Collection Amount       67463 non-null  int64  \n",
      " 21  Total Current Balance         67463 non-null  int64  \n",
      " 22  Total Revolving Credit Limit  67463 non-null  int64  \n",
      " 23  Loan Status                   67463 non-null  int64  \n",
      " 24  Grade Encoded                 67463 non-null  int32  \n",
      " 25  Sub Grade Encoded             67463 non-null  int32  \n",
      " 26  Employment Duration Encoded   67463 non-null  int32  \n",
      " 27  Verification Status Encoded   67463 non-null  int32  \n",
      " 28  Loan Title Encoded            67463 non-null  int32  \n",
      " 29  Initial List Status Encoded   67463 non-null  int32  \n",
      "dtypes: float64(9), int32(6), int64(15)\n",
      "memory usage: 13.9 MB\n"
     ]
    }
   ],
   "source": [
    "label_encoder = LabelEncoder()\n",
    "\n",
    "# data['Grade Encoded'] = label_encoder.fit_transform(data['Grade'])\n",
    "# data['Sub Grade Encoded'] = label_encoder.fit_transform(data['Sub Grade'])\n",
    "# data['Employment Duration Encoded'] = label_encoder.fit_transform(data['Employment Duration'])\n",
    "# data['Verification Status Encoded'] = label_encoder.fit_transform(data['Verification Status'])\n",
    "# data['Loan Title Encoded'] = label_encoder.fit_transform(data['Loan Title'])\n",
    "# data['Initial List Status Encoded'] = label_encoder.fit_transform(data['Initial List Status'])\n",
    "\n",
    "non_numeric_columns = data.select_dtypes(exclude=['number']).columns.tolist()\n",
    "\n",
    "data = data.drop(columns=non_numeric_columns)\n",
    "# data = data.drop(\"ID\", axis=1)\n",
    "data = data.drop(\"Accounts Delinquent\", axis=1)\n",
    "data.info()\n"
   ]
  },
  {
   "cell_type": "code",
   "execution_count": 28,
   "id": "86a64c1b",
   "metadata": {},
   "outputs": [
    {
     "name": "stdout",
     "output_type": "stream",
     "text": [
      "0    1853\n",
      "1    1853\n",
      "Name: Loan Status, dtype: int64\n",
      "[0 1]\n",
      "Лучшие параметры: Ядро = sigmoid, C = 1, Degree = 1\n"
     ]
    }
   ],
   "source": [
    "X = data.drop('Loan Status', axis=1) \n",
    "y = data['Loan Status']  \n",
    "X_train, X_test, y_train, y_test = train_test_split(X, y, test_size=0.3, random_state=42)\n",
    "\n",
    "scaler = StandardScaler()\n",
    "X_train = scaler.fit_transform(X_train)\n",
    "X_test = scaler.transform(X_test)\n",
    "\n",
    "under_sampler = RandomUnderSampler(random_state=42)\n",
    "X_resampled, y_resampled = under_sampler.fit_resample(X_train, y_test)\n",
    "\n",
    "print(pd.Series(y_resampled).value_counts())\n",
    "print(y_test.unique())\n",
    "\n",
    "param_grid = {'kernel': ['linear', 'rbf', 'sigmoid', 'poly'],\n",
    "              'C': [0.001, 0.01, 0.1, 1, 10],\n",
    "              'degree': [1, 2, 3, 4, 5, 6, 7]} \n",
    "\n",
    "svm_grid = GridSearchCV(SVC(), param_grid, cv=5, scoring='accuracy', n_jobs=-1)\n",
    "\n",
    "svm_grid.fit(X_resampled, y_resampled)\n",
    "\n",
    "best_params = svm_grid.best_params_\n",
    "best_kernel = best_params['kernel']\n",
    "best_C = best_params['C']\n",
    "best_degree = best_params['degree']\n",
    "\n",
    "print(f\"Лучшие параметры: Ядро = {best_kernel}, C = {best_C}, Degree = {best_degree}\")"
   ]
  },
  {
   "cell_type": "code",
   "execution_count": 29,
   "id": "4945997c",
   "metadata": {},
   "outputs": [
    {
     "name": "stdout",
     "output_type": "stream",
     "text": [
      "Точность модели: 0.5615396017589802\n",
      "              precision    recall  f1-score   support\n",
      "\n",
      "           0       0.91      0.57      0.70     18386\n",
      "           1       0.09      0.43      0.15      1853\n",
      "\n",
      "    accuracy                           0.56     20239\n",
      "   macro avg       0.50      0.50      0.43     20239\n",
      "weighted avg       0.83      0.56      0.65     20239\n",
      "\n",
      "Средняя точность перекрестной проверки: 0.4997301672962763\n"
     ]
    }
   ],
   "source": [
    "svm_model = SVC(kernel=best_kernel, C=best_C) \n",
    "\n",
    "svm_model.fit(X_resampled, y_resampled)\n",
    "\n",
    "y_pred = svm_model.predict(X_test)\n",
    "\n",
    "accuracy = accuracy_score(y_test, y_pred)\n",
    "report = classification_report(y_test, y_pred, zero_division = 1)\n",
    "\n",
    "print(f'Точность модели: {accuracy}')\n",
    "print(report)\n",
    "\n",
    "stratified_kfold = StratifiedKFold(n_splits=2, shuffle=True, random_state=42)\n",
    "cross_val_scores = cross_val_score(svm_model, X_resampled, y_resampled, cv=stratified_kfold)\n",
    "\n",
    "print(f'Средняя точность перекрестной проверки: {cross_val_scores.mean()}')"
   ]
  },
  {
   "cell_type": "code",
   "execution_count": null,
   "id": "59ae58dd",
   "metadata": {},
   "outputs": [],
   "source": []
  }
 ],
 "metadata": {
  "kernelspec": {
   "display_name": "Python 3 (ipykernel)",
   "language": "python",
   "name": "python3"
  },
  "language_info": {
   "codemirror_mode": {
    "name": "ipython",
    "version": 3
   },
   "file_extension": ".py",
   "mimetype": "text/x-python",
   "name": "python",
   "nbconvert_exporter": "python",
   "pygments_lexer": "ipython3",
   "version": "3.9.12"
  }
 },
 "nbformat": 4,
 "nbformat_minor": 5
}
